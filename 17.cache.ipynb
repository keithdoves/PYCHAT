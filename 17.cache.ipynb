{
 "cells": [
  {
   "cell_type": "code",
   "execution_count": null,
   "id": "8e66d81d",
   "metadata": {},
   "outputs": [
    {
     "name": "stdout",
     "output_type": "stream",
     "text": [
      "\u001b[32;1m\u001b[1;3m[llm/start]\u001b[0m \u001b[1m[llm:ChatOpenAI] Entering LLM run with input:\n",
      "\u001b[0m{\n",
      "  \"prompts\": [\n",
      "    \"Human: How do you make italian pasta\"\n",
      "  ]\n",
      "}\n",
      "\u001b[36;1m\u001b[1;3m[llm/end]\u001b[0m \u001b[1m[llm:ChatOpenAI] [116ms] Exiting LLM run with output:\n",
      "\u001b[0m{\n",
      "  \"generations\": [\n",
      "    [\n",
      "      {\n",
      "        \"text\": \"Italian pasta is a broad term that can refer to a variety of dishes. Here's a basic recipe for Spaghetti Aglio e Olio, a simple but flavorful Italian pasta dish.\\n\\nIngredients:\\n- 200 grams of spaghetti\\n- 2 large cloves of garlic\\n- 1/2 teaspoon of red pepper flakes\\n- 1/4 cup of extra virgin olive oil\\n- Salt\\n- 1/4 cup of fresh parsley, chopped\\n- 1/2 cup of Parmesan cheese, grated\\n\\nInstructions:\\n\\n1. Bring a large pot of salted water to a boil. Add the spaghetti and cook until al dente, or firm to the bite, about 8-10 minutes.\\n\\n2. While the pasta is cooking, slice the garlic thinly. Heat the olive oil in a large pan over medium heat, add the sliced garlic and red pepper flakes. Cook until the garlic is golden brown.\\n\\n3. Once the pasta is cooked, reserve about a cup of the pasta water and then drain the pasta.\\n\\n4. Add the drained pasta to the pan with the garlic and oil. Toss well to coat. If the pasta looks dry, add some of the reserved pasta water.\\n\\n5. Turn off the heat, add the chopped parsley and half of the grated Parmesan cheese. Toss well until the pasta is coated in the cheese.\\n\\n6. Serve the pasta with the remaining Parmesan cheese sprinkled on top.\\n\\nEnjoy your Italian pasta!\",\n",
      "        \"generation_info\": {\n",
      "          \"finish_reason\": \"stop\",\n",
      "          \"model_name\": \"gpt-4-0613\"\n",
      "        },\n",
      "        \"type\": \"ChatGeneration\",\n",
      "        \"message\": {\n",
      "          \"lc\": 1,\n",
      "          \"type\": \"constructor\",\n",
      "          \"id\": [\n",
      "            \"langchain\",\n",
      "            \"schema\",\n",
      "            \"messages\",\n",
      "            \"AIMessage\"\n",
      "          ],\n",
      "          \"kwargs\": {\n",
      "            \"content\": \"Italian pasta is a broad term that can refer to a variety of dishes. Here's a basic recipe for Spaghetti Aglio e Olio, a simple but flavorful Italian pasta dish.\\n\\nIngredients:\\n- 200 grams of spaghetti\\n- 2 large cloves of garlic\\n- 1/2 teaspoon of red pepper flakes\\n- 1/4 cup of extra virgin olive oil\\n- Salt\\n- 1/4 cup of fresh parsley, chopped\\n- 1/2 cup of Parmesan cheese, grated\\n\\nInstructions:\\n\\n1. Bring a large pot of salted water to a boil. Add the spaghetti and cook until al dente, or firm to the bite, about 8-10 minutes.\\n\\n2. While the pasta is cooking, slice the garlic thinly. Heat the olive oil in a large pan over medium heat, add the sliced garlic and red pepper flakes. Cook until the garlic is golden brown.\\n\\n3. Once the pasta is cooked, reserve about a cup of the pasta water and then drain the pasta.\\n\\n4. Add the drained pasta to the pan with the garlic and oil. Toss well to coat. If the pasta looks dry, add some of the reserved pasta water.\\n\\n5. Turn off the heat, add the chopped parsley and half of the grated Parmesan cheese. Toss well until the pasta is coated in the cheese.\\n\\n6. Serve the pasta with the remaining Parmesan cheese sprinkled on top.\\n\\nEnjoy your Italian pasta!\",\n",
      "            \"response_metadata\": {\n",
      "              \"finish_reason\": \"stop\",\n",
      "              \"model_name\": \"gpt-4-0613\"\n",
      "            },\n",
      "            \"type\": \"ai\",\n",
      "            \"id\": \"run-c9da29f7-88b2-4593-b87d-5e0e52c8a565-0\",\n",
      "            \"tool_calls\": [],\n",
      "            \"invalid_tool_calls\": []\n",
      "          }\n",
      "        }\n",
      "      }\n",
      "    ]\n",
      "  ],\n",
      "  \"llm_output\": null,\n",
      "  \"run\": null,\n",
      "  \"type\": \"LLMResult\"\n",
      "}\n"
     ]
    },
    {
     "name": "stderr",
     "output_type": "stream",
     "text": [
      "C:\\Users\\junglim\\AppData\\Local\\Temp\\ipykernel_482568\\1813921959.py:19: LangChainDeprecationWarning: The method `BaseChatModel.predict` was deprecated in langchain-core 0.1.7 and will be removed in 1.0. Use :meth:`~invoke` instead.\n",
      "  chat.predict(\"How do you make italian pasta\")\n"
     ]
    },
    {
     "data": {
      "text/plain": [
       "\"Italian pasta is a broad term that can refer to a variety of dishes. Here's a basic recipe for Spaghetti Aglio e Olio, a simple but flavorful Italian pasta dish.\\n\\nIngredients:\\n- 200 grams of spaghetti\\n- 2 large cloves of garlic\\n- 1/2 teaspoon of red pepper flakes\\n- 1/4 cup of extra virgin olive oil\\n- Salt\\n- 1/4 cup of fresh parsley, chopped\\n- 1/2 cup of Parmesan cheese, grated\\n\\nInstructions:\\n\\n1. Bring a large pot of salted water to a boil. Add the spaghetti and cook until al dente, or firm to the bite, about 8-10 minutes.\\n\\n2. While the pasta is cooking, slice the garlic thinly. Heat the olive oil in a large pan over medium heat, add the sliced garlic and red pepper flakes. Cook until the garlic is golden brown.\\n\\n3. Once the pasta is cooked, reserve about a cup of the pasta water and then drain the pasta.\\n\\n4. Add the drained pasta to the pan with the garlic and oil. Toss well to coat. If the pasta looks dry, add some of the reserved pasta water.\\n\\n5. Turn off the heat, add the chopped parsley and half of the grated Parmesan cheese. Toss well until the pasta is coated in the cheese.\\n\\n6. Serve the pasta with the remaining Parmesan cheese sprinkled on top.\\n\\nEnjoy your Italian pasta!\""
      ]
     },
     "execution_count": 1,
     "metadata": {},
     "output_type": "execute_result"
    }
   ],
   "source": [
    "from langchain_openai import ChatOpenAI\n",
    "from langchain.callbacks import StreamingStdOutCallbackHandler\n",
    "from langchain.globals import set_llm_cache, set_debug\n",
    "from langchain.cache import InMemoryCache, SQLiteCache\n",
    "\n",
    "# 응답을 DB에 저장하는 방법\n",
    "\n",
    "set_llm_cache(SQLiteCache(\"cache.db\"))\n",
    "#이렇게 하면 SQLite DB로 캐싱된다. cache.db파일이 생성됨\n",
    "#redis 등 다양한 캐싱방법이 있음(langchain 홈페이지 참조)\n",
    "#set_llm_cache(InMemoryCache())\n",
    "#이렇게 하면 모든 response가 메모리에 저장됨\n",
    "set_debug(True)\n",
    "\n",
    "\n",
    "chat  = ChatOpenAI(model_name=\"gpt-4\",\n",
    "                temperature=0.1,\n",
    "                streaming=True,\n",
    "                )\n",
    "chat.predict(\"How do you make italian pasta\")"
   ]
  }
 ],
 "metadata": {
  "kernelspec": {
   "display_name": "venv",
   "language": "python",
   "name": "python3"
  },
  "language_info": {
   "codemirror_mode": {
    "name": "ipython",
    "version": 3
   },
   "file_extension": ".py",
   "mimetype": "text/x-python",
   "name": "python",
   "nbconvert_exporter": "python",
   "pygments_lexer": "ipython3",
   "version": "3.13.3"
  }
 },
 "nbformat": 4,
 "nbformat_minor": 5
}
