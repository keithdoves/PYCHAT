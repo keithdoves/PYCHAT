{
 "cells": [
  {
   "cell_type": "code",
   "execution_count": null,
   "id": "7a218e8f",
   "metadata": {},
   "outputs": [],
   "source": [
    "from langchain_openai import ChatOpenAI\n",
    "from langchain.prompts import ChatPromptTemplate\n",
    "from langchain.callbacks import StreamingStdOutCallbackHandler\n",
    "\n",
    "chat = ChatOpenAI(model_name=\"gpt-4o-mini\",\n",
    "\t\ttemperature=0.1,\n",
    "\t\tstreaming=True,\n",
    "\t\tcallbacks=[StreamingStdOutCallbackHandler(), #토큰단위로 받음\n",
    "\t\t#다양한 이벤트 감지 가능\n",
    "\t],\n",
    ")\n",
    "\n",
    "chef_prompt = ChatPromptTemplate.from_messages([\n",
    "(\"system\", \"당신은 세계최고의 international chef입니다. 당신은 쉽게 구할 수 있는 재료로 누구나 따라할 수 있는 요리법을 만듭니다.\"),\n",
    "(\"human\", \"나는 {cuisine} 요리를 만들고 싶어.\"),\n",
    "])\n",
    "chef_chain = chef_prompt | chat\n",
    "\n",
    "veg_chef_prompt = ChatPromptTemplate.from_messages([\n",
    "(\"system\", \"\"\"당신은 전통 요리들을 채식으로 바꾸는 데 특화된 채식 요리사입니다.\n",
    "당신은 대체 재료를 찾아 사용하고, 그 재료의 준비 방법도 설명합니다.\n",
    "레시피를 급진적으로 바꾸지 않으며, 만약 어떤 재료에 대해 적절한 대체재가 없다면, \"이 재료는 어떻게 대체해야 할지 모르겠습니다.\" 라고 솔직하게 말합니다.\n",
    "또한 당신은 원래 재료에서 대체된 채식 재료를 답변 마지막에 나열합니다.\"\"\"),\n",
    "(\"human\", \"{recipe}\")\n",
    "])\n",
    "veg_chain = veg_chef_prompt | chat\n",
    "\n",
    "final_chain = {\"recipe\" : chef_chain} | veg_chain\n",
    "final_chain.invoke({\n",
    "\"cuisine\" : \"Korean\",\n",
    "})\n",
    "# japanese 요리법을 만들고, 그 요리법을 채식으로 바꿈"
   ]
  }
 ],
 "metadata": {
  "kernelspec": {
   "display_name": "venv",
   "language": "python",
   "name": "python3"
  },
  "language_info": {
   "codemirror_mode": {
    "name": "ipython",
    "version": 3
   },
   "file_extension": ".py",
   "mimetype": "text/x-python",
   "name": "python",
   "nbconvert_exporter": "python",
   "pygments_lexer": "ipython3",
   "version": "3.13.3"
  }
 },
 "nbformat": 4,
 "nbformat_minor": 5
}
