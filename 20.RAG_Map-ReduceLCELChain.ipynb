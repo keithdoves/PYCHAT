{
 "cells": [
  {
   "cell_type": "code",
   "execution_count": null,
   "id": "3c0831a0",
   "metadata": {},
   "outputs": [
    {
     "name": "stderr",
     "output_type": "stream",
     "text": [
      "WARNING: libmagic is unavailable but assists in filetype detection. Please consider installing libmagic for better results.\n",
      "INFO: HTTP Request: POST https://api.openai.com/v1/embeddings \"HTTP/1.1 200 OK\"\n",
      "INFO: HTTP Request: POST https://api.openai.com/v1/chat/completions \"HTTP/1.1 200 OK\"\n"
     ]
    },
    {
     "name": "stdout",
     "output_type": "stream",
     "text": [
      "map_docs -> result: ''\n"
     ]
    },
    {
     "name": "stderr",
     "output_type": "stream",
     "text": [
      "INFO: HTTP Request: POST https://api.openai.com/v1/chat/completions \"HTTP/1.1 200 OK\"\n"
     ]
    },
    {
     "name": "stdout",
     "output_type": "stream",
     "text": [
      "map_docs -> result: ''\n"
     ]
    },
    {
     "name": "stderr",
     "output_type": "stream",
     "text": [
      "INFO: HTTP Request: POST https://api.openai.com/v1/chat/completions \"HTTP/1.1 200 OK\"\n"
     ]
    },
    {
     "name": "stdout",
     "output_type": "stream",
     "text": [
      "map_docs -> result: the Ministry of Truth, his place of work\n"
     ]
    },
    {
     "name": "stderr",
     "output_type": "stream",
     "text": [
      "INFO: HTTP Request: POST https://api.openai.com/v1/chat/completions \"HTTP/1.1 200 OK\"\n"
     ]
    },
    {
     "name": "stdout",
     "output_type": "stream",
     "text": [
      "map_docs -> result: ''\n"
     ]
    },
    {
     "name": "stderr",
     "output_type": "stream",
     "text": [
      "INFO: HTTP Request: POST https://api.openai.com/v1/chat/completions \"HTTP/1.1 200 OK\"\n"
     ]
    },
    {
     "data": {
      "text/plain": [
       "AIMessage(content='Winston goes to work at the Ministry of Truth.', additional_kwargs={}, response_metadata={'finish_reason': 'stop', 'model_name': 'gpt-4.1-2025-04-14', 'system_fingerprint': 'fp_beec22d258'}, id='run-0bbf3a9e-37ab-45d3-9e7c-517002977177-0')"
      ]
     },
     "execution_count": 6,
     "metadata": {},
     "output_type": "execute_result"
    }
   ],
   "source": [
    "from langchain_openai import ChatOpenAI\n",
    "from langchain_unstructured import UnstructuredLoader\n",
    "from langchain.text_splitter import CharacterTextSplitter\n",
    "from langchain.embeddings import  CacheBackedEmbeddings\n",
    "from langchain_openai import OpenAIEmbeddings\n",
    "from langchain.vectorstores import FAISS\n",
    "from langchain.storage import LocalFileStore\n",
    "from langchain.prompts import ChatPromptTemplate\n",
    "from langchain.schema.runnable import RunnablePassthrough, RunnableLambda\n",
    "\n",
    "### Map-Reduce LCEL Chain ###\n",
    "\n",
    "##  Document들을 받아 개별적으로 요약작업을 수행하고, 각각의 요약본을 LLM에게 전달한다.\n",
    "\n",
    "#  - document list가 필요하고, list 내부의 모든 document들을 위한\n",
    "#     prompt('이 document를 읽고 사용자의 질문에 답변하기에 적절한 정보가 있는지 확인해주세요')가 필요하다.\n",
    "#  - 이를 전달받은 LLM은 응답을 제출하고, 그 응답들을 취합해 하나의 document를 만들어낸다. \n",
    "#  - 최종 document가 LLM을 위한 prompt로 전달된다.\n",
    "\n",
    "\n",
    "llm  = ChatOpenAI(model_name=\"gpt-4.1\",\n",
    "                temperature=0.1,\n",
    "                streaming=True,\n",
    "                )\n",
    "\n",
    "# 캐싱 위치 지정\n",
    "cache_dir = LocalFileStore(\"./.cache/\")\n",
    "\n",
    "# 문서 나누는 방법 지정\n",
    "splitter = CharacterTextSplitter.from_tiktoken_encoder(\n",
    "    separator=\"\\n\",\n",
    "    chunk_size=600,\n",
    "    chunk_overlap=100,\n",
    ")\n",
    "\n",
    "# 로컬에 저장된 문서 로드\n",
    "loader = UnstructuredLoader(\"./files/chapter_one.txt\")\n",
    "\n",
    "# 문서 로드 및 분할\n",
    "docs = loader.load_and_split(text_splitter=splitter)\n",
    "\n",
    "embeddings = OpenAIEmbeddings()\n",
    "\n",
    "# 임베딩 인스턴스 생성(캐시된 데이터가 있으면, 캐시된 데이터 사용)\n",
    "cached_embeddings = CacheBackedEmbeddings.from_bytes_store(embeddings, cache_dir)\n",
    "\n",
    "# 문서를 임베딩하고, FAISS 벡터스토어를 이용하여 지정된 위치에 저장\n",
    "vectorstore = FAISS.from_documents(docs, cached_embeddings)\n",
    "\n",
    "retriever = vectorstore.as_retriever()\n",
    "# 기본설정으로 search_kwargs={\"k\": 4}가 되어있어\n",
    "# 4개의 document를 가져온다.\n",
    "\n",
    "map_doc_prompt = ChatPromptTemplate.from_messages(\n",
    "    [\n",
    "        (\n",
    "            \"system\",\n",
    "            \"\"\"\n",
    "            Use the following portion of a long document to see if any of the text is relevant to answer the question. Return any relevant text verbatim. If there is no relevant text, return : ''\n",
    "            -------\n",
    "            {context}\n",
    "            \"\"\",\n",
    "        ),\n",
    "        (\"human\", \"{question}\"),\n",
    "    ]\n",
    ")\n",
    "# 🟩 실행순서 6 ➡ map_doc_chain(\"context\": doc.page_content, \"question\": question)\n",
    "map_doc_chain = map_doc_prompt | llm\n",
    "\n",
    "# 🟩 실행순서 5 ➡map_docs({\"document\": [document(...), ... document(...)], \"question\": \"Where does...?\"})\n",
    "#                 \n",
    "def map_docs(inputs):\n",
    "    documents = inputs[\"documents\"]\n",
    "    # print(f\"map_docs -> documents: {documents[0]}\")\n",
    "    # print(f\"number of documents: {len(documents)}\")\n",
    "    question = inputs[\"question\"]\n",
    "    results = []\n",
    "\n",
    "    for doc in documents:\n",
    "        result = map_doc_chain.invoke(\n",
    "            {\"context\": doc.page_content, \"question\": question}\n",
    "        ).content\n",
    "        # print(f\"map_docs -> result: {result}\")\n",
    "        results.append(result)\n",
    "# 🟩 실행순서 7 ➡ map_doc_chain실행으로 주어진 4개 docu조각에서 \n",
    "#                  질문과 관련된 내용을 results에 합쳐서 결과를 반환한다.\n",
    "    return \"\\n\\n\".join(results)\n",
    "\n",
    "\n",
    "# 🟩 실행순서 3 ➡ {\"document\" : retriever(\"Where does...?\"), \"question\": \"Where does...?\"}\n",
    "# 🟩 실행순서 4 ➡ 3의 값이 딕셔너리로 map_docs로 전달됨(document에 전달되는 것은 4개 도큐먼트 객체의 리스트)\n",
    "map_chain = {\n",
    "    # 자동으로 \"Where does Winston go to work?\"가\n",
    "    # retriever의 입력값으로 사용됨.\n",
    "    \"documents\": retriever,\n",
    "    \"question\": RunnablePassthrough(),\n",
    "} | RunnableLambda(map_docs)\n",
    "\n",
    "final_prompt = ChatPromptTemplate.from_messages(\n",
    "    [\n",
    "        (\n",
    "            \"system\",\n",
    "            \"\"\"\n",
    "            Given the following extracted parts of a long document and a question, create a final answer. \n",
    "            If you don't know the answer, just say that you don't know. Don't try to make up an answer.\n",
    "            ------\n",
    "            {context}\n",
    "            \"\"\",\n",
    "        ),\n",
    "        (\"human\", \"{question}\"),\n",
    "    ]\n",
    ")\n",
    "\n",
    "# 🟩 실행순서 2 ➡ {\"context: map_chain(Where does Winston go to work?)\", \"question\": \"Where does Winston go to work?\"}\n",
    "# 🟩 실행순서 7 ➡ map_chain(질문과 연관된 4개 docu를, llm이 질문에 대해 관련성을 파악한 텍스트가 context로 제공됨 )\n",
    "chain = {\"context\": map_chain, \"question\": RunnablePassthrough()} | final_prompt | llm\n",
    "\n",
    "# 🟩 실행순서 1\n",
    "chain.invoke(\"Where does Winston go to work?\")\n"
   ]
  }
 ],
 "metadata": {
  "kernelspec": {
   "display_name": ".venv-312",
   "language": "python",
   "name": "python3"
  },
  "language_info": {
   "codemirror_mode": {
    "name": "ipython",
    "version": 3
   },
   "file_extension": ".py",
   "mimetype": "text/x-python",
   "name": "python",
   "nbconvert_exporter": "python",
   "pygments_lexer": "ipython3",
   "version": "3.12.10"
  }
 },
 "nbformat": 4,
 "nbformat_minor": 5
}
