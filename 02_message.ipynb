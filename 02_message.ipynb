{
 "cells": [
  {
   "cell_type": "code",
   "execution_count": null,
   "id": "9e746673",
   "metadata": {},
   "outputs": [],
   "source": [
    "from langchain_openai import ChatOpenAI\n",
    "\n",
    "chat = ChatOpenAI(model_name=\"gpt-4o-mini\", temperature=0.1)\n",
    "\n",
    "from langchain.schema import HumanMessage, AIMessage, SystemMessage\n",
    "#SystemMessage는 LLM에 설정들을 제공하기 위한 메시지임.\n",
    "\n",
    "\n",
    "language = \"korean\"\n",
    "name = \"Luigi\"\n",
    "country_a = \"Italy\"\n",
    "country_b = \"France\"\n",
    "\n",
    "messages = [\n",
    "SystemMessage(content=f\"You are a geography expert. And you only reply in {language}.\",\n",
    "),\n",
    "AIMessage(content=f\"안녕하세요, 제 이름은 {name} 입니다.!\"\n",
    "),\n",
    "HumanMessage(\n",
    "content=f\"What is the distance between {country_a} and {country_b}. Also, What is your name?\",\n",
    "),\n",
    "]\n",
    "\n",
    "\n",
    "reponse = chat.invoke(messages)\n",
    "print(reponse.content)"
   ]
  }
 ],
 "metadata": {
  "kernelspec": {
   "display_name": "venv",
   "language": "python",
   "name": "python3"
  },
  "language_info": {
   "codemirror_mode": {
    "name": "ipython",
    "version": 3
   },
   "file_extension": ".py",
   "mimetype": "text/x-python",
   "name": "python",
   "nbconvert_exporter": "python",
   "pygments_lexer": "ipython3",
   "version": "3.13.3"
  }
 },
 "nbformat": 4,
 "nbformat_minor": 5
}
