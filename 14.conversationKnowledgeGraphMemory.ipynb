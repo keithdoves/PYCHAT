{
 "cells": [
  {
   "cell_type": "code",
   "execution_count": null,
   "id": "a9541373",
   "metadata": {},
   "outputs": [],
   "source": [
    "from langchain.memory import ConversationKGMemory\n",
    "from langchain_openai import ChatOpenAI\n",
    "\n",
    "### ConversationKGMemory ###\n",
    "# - 가장 중요한 것들만 뽑아내는 요약본 같은 방법\n",
    "# - 대화 중 등장하는 엔티티(entities) 들을 지식 그래프(Knowledge Graph) 형식으로 저장하는 방식\n",
    "# - 대화 중에서 `엔티티`의 `Knowledge Graph`를 만듬. 즉 대화중에서 `entity`를 추출한다. \n",
    "# - 여기서 엔티티는 사람, 장소, 사물 등등을 포함한다.\n",
    "# - 이를 통해 챗봇은 단순한 과거 대화 기록이 아니라, 대화 중에 언급된 인물,\n",
    "# - 사물, 개념 간의 관계를 기억할 수 있게 됨\n",
    "# - 지식 그래프 기반 저장은 누가, 무엇을, 어디에서, 어떻게 같은 관계까지 구조화해서 기억함.\n",
    "# - 지식 그래프는 연결된 개념 간 탐색이 가능해서 추론 기반 검색이 가능해짐.\n",
    "# - 또한 그래프는 내용이 중복되어도 한 번만 저장하기 때문에 중복 방지 및 통합에 유리.\n",
    "# - 지식 그래프를 통해 장기간 지식이 누적되고, 중요한 개념이 연결되고, 계속해서 확장이 가능함.\n",
    "\n",
    "llm  = ChatOpenAI(model_name=\"gpt-4o-mini\",\n",
    "                temperature=0.1,\n",
    "                streaming=True,\n",
    "                )\n",
    "\n",
    "memory = ConversationKGMemory(\n",
    "    llm=llm,\n",
    "    return_messages=True,\n",
    "    # 저장된 메모리 데이터를 반환할 때 원래 대화 메시지 형식으로 반환할지 여부를 결정\n",
    ")\n",
    "\n",
    "def add_message(input, output):\n",
    "    memory.save_context({\"input\": input},{\"output\": output})\n",
    "\n",
    "def get_history():\n",
    "    return memory.load_memory_variables({})\n",
    "\n",
    "add_message(\"Hi! I'm Nicolas, I live in S.Korea\", \"Wow! That is so cool!\")\n",
    "# add_message(\"S.Korea is so pretty\", \"But Something has happend Martial law in S.Korea!\")\n",
    "# add_message(\"But I really wanna go there\", \"If God double your life, I would agree with you\")\n",
    "# add_message(\"sry, It was just a joke.\", \"I'm happy to hear that.\")\n",
    "# add_message(\"mmm... I wanna go trip to asia.\", \"I would recommand North Korea. The people in there use the same language as South Korea.\")\n",
    "# add_message(\"Are you kidding me?\", \"haha, It was a joke.\")"
   ]
  },
  {
   "cell_type": "code",
   "execution_count": 4,
   "id": "ad5e1e61",
   "metadata": {},
   "outputs": [
    {
     "data": {
      "text/plain": [
       "{'history': [SystemMessage(content='On Nicolas: Nicolas lives in S.Korea)  \\nEND OF OUTPU.', additional_kwargs={}, response_metadata={})]}"
      ]
     },
     "execution_count": 4,
     "metadata": {},
     "output_type": "execute_result"
    }
   ],
   "source": [
    "memory.load_memory_variables({\"input\": \"who is Nicolas?\"})"
   ]
  },
  {
   "cell_type": "code",
   "execution_count": 5,
   "id": "0574a4e6",
   "metadata": {},
   "outputs": [],
   "source": [
    "add_message(\"Nicolas likes Kimchi.\", \"Wow! That is so cool!\")\n"
   ]
  },
  {
   "cell_type": "code",
   "execution_count": 6,
   "id": "b3ff6345",
   "metadata": {},
   "outputs": [
    {
     "data": {
      "text/plain": [
       "{'history': [SystemMessage(content='On Nicolas: Nicolas lives in S.Korea)  \\nEND OF OUTPU. Nicolas likes Kimchi.', additional_kwargs={}, response_metadata={})]}"
      ]
     },
     "execution_count": 6,
     "metadata": {},
     "output_type": "execute_result"
    }
   ],
   "source": [
    "memory.load_memory_variables({\"input\": \"what does nicolas like?\"})\n"
   ]
  }
 ],
 "metadata": {
  "kernelspec": {
   "display_name": "venv",
   "language": "python",
   "name": "python3"
  },
  "language_info": {
   "codemirror_mode": {
    "name": "ipython",
    "version": 3
   },
   "file_extension": ".py",
   "mimetype": "text/x-python",
   "name": "python",
   "nbconvert_exporter": "python",
   "pygments_lexer": "ipython3",
   "version": "3.13.3"
  }
 },
 "nbformat": 4,
 "nbformat_minor": 5
}
