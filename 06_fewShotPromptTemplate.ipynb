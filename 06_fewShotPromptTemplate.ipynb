{
 "cells": [
  {
   "cell_type": "code",
   "execution_count": null,
   "id": "3d602e20",
   "metadata": {},
   "outputs": [
    {
     "name": "stdout",
     "output_type": "stream",
     "text": [
      "AI: 제가 알고 있는 내용입니다:\n",
      "- 수도: 서울\n",
      "- 언어: 한국어\n",
      "- 음식: 김치, 비빔밥, 불고기\n",
      "- 통화: 원 (KRW)\n",
      "- 과일: 사과, 배, 감귤\n",
      "\n",
      "한국은 또한 K-팝, K-드라마, 전통 문화와 현대 기술이 조화를 이루는 나라로 유명합니다."
     ]
    },
    {
     "data": {
      "text/plain": [
       "AIMessage(content='AI: 제가 알고 있는 내용입니다:\\n- 수도: 서울\\n- 언어: 한국어\\n- 음식: 김치, 비빔밥, 불고기\\n- 통화: 원 (KRW)\\n- 과일: 사과, 배, 감귤\\n\\n한국은 또한 K-팝, K-드라마, 전통 문화와 현대 기술이 조화를 이루는 나라로 유명합니다.', additional_kwargs={}, response_metadata={'finish_reason': 'stop', 'model_name': 'gpt-4o-mini-2024-07-18', 'system_fingerprint': 'fp_64e0ac9789'}, id='run-c5203f20-81e9-43de-a9bf-fbc362ab8f88-0')"
      ]
     },
     "execution_count": 2,
     "metadata": {},
     "output_type": "execute_result"
    }
   ],
   "source": [
    "from langchain_openai import ChatOpenAI\n",
    "from langchain.prompts import PromptTemplate\n",
    "from langchain.prompts.few_shot import FewShotPromptTemplate\n",
    "from langchain.callbacks import StreamingStdOutCallbackHandler\n",
    "\n",
    "\n",
    "### FewShotPromptTemplate ###\n",
    "# 더 나은 대답을 얻기 위해 어떻게 대답해야 하는지 예제를 알려줌.\n",
    "# prompt로 전달하는 것보다 더 좋은 결과를 얻을 수 있음.\n",
    "\n",
    "\n",
    "examples = [\n",
    "    {\n",
    "        \"question\": \"프랑스에 대해 무엇을 알고 있나요?\",\n",
    "        \"answer\": \"\"\"\n",
    "        제가 아는 정보는 다음과 같습니다:\n",
    "        수도: 파리\n",
    "        언어: 프랑스어\n",
    "        음식: 와인과 치즈\n",
    "        통화: 유로\n",
    "        과일: 사과와 포도\n",
    "        \"\"\",\n",
    "    },\n",
    "    {\n",
    "        \"question\": \"이탈리아에 대해 무엇을 알고 있나요?\",\n",
    "        \"answer\": \"\"\"\n",
    "        제가 알고 있는 내용입니다:\n",
    "        수도: 로마\n",
    "        언어: 이탈리아어\n",
    "        음식: 피자와 파스타\n",
    "        통화: 유로\n",
    "        과일: 오렌지와 레몬\n",
    "        \"\"\",\n",
    "    },\n",
    "    {\n",
    "        \"question\": \"그리스에 대해 무엇을 알고 있나요?\",\n",
    "        \"answer\": \"\"\"\n",
    "        제가 알고 있는 내용입니다:\n",
    "        수도: 아테네\n",
    "        언어: 그리스어\n",
    "        음식: 수블라키와 페타 치즈\n",
    "        통화: 유로\n",
    "        과일: 올리브와 포도\n",
    "        \"\"\",\n",
    "    },\n",
    "]\n",
    "\n",
    "chat = ChatOpenAI(model_name=\"gpt-4o-mini\",\n",
    "temperature=0.1,\n",
    "streaming=True,\n",
    "callbacks=[StreamingStdOutCallbackHandler(),\n",
    "],\n",
    ")\n",
    "\n",
    "#학습데이터의 형식을 지정\n",
    "#즉 예제데이터가 어떤 텍스트 형식으로 모델에게 전달될지를 정의\n",
    "example_template = \"\"\"\n",
    "Human: {question}\n",
    "AI: {answer}\n",
    "\"\"\"\n",
    "\n",
    "#템플릿에서 프롬프트 객체 생성\n",
    "example_prompt = PromptTemplate.from_template(example_template)\n",
    "\n",
    "prompt = FewShotPromptTemplate(\n",
    "example_prompt=example_prompt,\n",
    "examples=examples,\n",
    "suffix=\"Human:{country}라는 나라에 대해 알아?\",\n",
    "input_variables=[\"country\"],\n",
    ")\n",
    "\n",
    "prompt.format(country=\"Germany\")\n",
    "chain = prompt | chat\n",
    "\n",
    "chain.invoke({\n",
    "\"country\":\"S.Korea\"\n",
    "})"
   ]
  }
 ],
 "metadata": {
  "kernelspec": {
   "display_name": "venv",
   "language": "python",
   "name": "python3"
  },
  "language_info": {
   "codemirror_mode": {
    "name": "ipython",
    "version": 3
   },
   "file_extension": ".py",
   "mimetype": "text/x-python",
   "name": "python",
   "nbconvert_exporter": "python",
   "pygments_lexer": "ipython3",
   "version": "3.13.3"
  }
 },
 "nbformat": 4,
 "nbformat_minor": 5
}
