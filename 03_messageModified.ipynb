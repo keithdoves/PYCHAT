{
 "cells": [
  {
   "cell_type": "code",
   "execution_count": null,
   "id": "354e29a0",
   "metadata": {},
   "outputs": [],
   "source": [
    "from langchain_openai import ChatOpenAI\n",
    "from langchain.prompts import PromptTemplate, ChatPromptTemplate\n",
    "\n",
    "chat = ChatOpenAI(model_name=\"gpt-4o-mini\", temperature=0.1)\n"
   ]
  },
  {
   "cell_type": "code",
   "execution_count": null,
   "id": "c2963a60",
   "metadata": {},
   "outputs": [],
   "source": [
    "template = PromptTemplate.from_template(\"What is the distance between {country_a} and {country_b}\")\n",
    "prompt = template.format(country_a=\"maxico\", country_b=\"korea\")\n",
    "\n",
    "res = chat.invoke(prompt)\n",
    "print(res.content)\n"
   ]
  },
  {
   "cell_type": "code",
   "execution_count": null,
   "id": "cd51f732",
   "metadata": {},
   "outputs": [],
   "source": [
    "\n",
    "template = ChatPromptTemplate.from_messages([\n",
    "(\"system\", \"You are a geography expert. And tou only reply in {language}.\"),\n",
    "(\"ai\", \"Ciao, mi chiamo {name}!\"),\n",
    "(\"human\",\"What is the distance between {country_a} and {country_b}. Also, What is your name?\")\n",
    "])\n",
    "\n",
    "prompt = template.format_messages(\n",
    "language=\"japanese\",\n",
    "name=\"Socrates\",\n",
    "country_a=\"France\",\n",
    "country_b=\"Korea\",\n",
    ")\n",
    "\n",
    "response = chat.invoke(prompt)\n",
    "print(response.content)"
   ]
  }
 ],
 "metadata": {
  "kernelspec": {
   "display_name": "venv",
   "language": "python",
   "name": "python3"
  },
  "language_info": {
   "codemirror_mode": {
    "name": "ipython",
    "version": 3
   },
   "file_extension": ".py",
   "mimetype": "text/x-python",
   "name": "python",
   "nbconvert_exporter": "python",
   "pygments_lexer": "ipython3",
   "version": "3.13.3"
  }
 },
 "nbformat": 4,
 "nbformat_minor": 5
}
