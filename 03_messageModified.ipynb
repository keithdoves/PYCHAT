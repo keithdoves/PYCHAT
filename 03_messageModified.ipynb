{
 "cells": [
  {
   "cell_type": "code",
   "execution_count": 10,
   "id": "354e29a0",
   "metadata": {},
   "outputs": [],
   "source": [
    "from langchain_openai import ChatOpenAI\n",
    "from langchain.prompts import PromptTemplate, ChatPromptTemplate\n",
    "\n",
    "chat = ChatOpenAI(model_name=\"gpt-4o-mini\", temperature=0.1)\n"
   ]
  },
  {
   "cell_type": "code",
   "execution_count": 11,
   "id": "c2963a60",
   "metadata": {},
   "outputs": [
    {
     "name": "stdout",
     "output_type": "stream",
     "text": [
      "The distance between Mexico and South Korea varies depending on the specific locations being measured. However, the approximate distance from Mexico City, Mexico, to Seoul, South Korea, is around 6,500 kilometers (about 4,000 miles) when measured in a straight line (great circle distance). If you have specific cities in mind, please provide them for a more accurate distance.\n"
     ]
    }
   ],
   "source": [
    "template = PromptTemplate.from_template(\"What is the distance between {country_a} and {country_b}\")\n",
    "prompt = template.format(country_a=\"maxico\", country_b=\"korea\")\n",
    "\n",
    "res = chat.invoke(prompt)\n",
    "print(res.content)\n"
   ]
  },
  {
   "cell_type": "code",
   "execution_count": 12,
   "id": "cd51f732",
   "metadata": {},
   "outputs": [
    {
     "name": "stdout",
     "output_type": "stream",
     "text": [
      "フランスと韓国の距離は、出発地点によって異なりますが、パリからソウルまでの直線距離は約8,500キロメートルです。私の名前はありませんが、地理に関する質問にお答えするためにここにいます。\n"
     ]
    }
   ],
   "source": [
    "\n",
    "template = ChatPromptTemplate.from_messages([\n",
    "(\"system\", \"You are a geography expert. And tou only reply in {language}.\"),\n",
    "(\"ai\", \"Ciao, mi chiamo {name}!\"),\n",
    "(\"human\",\"What is the distance between {country_a} and {country_b}. Also, What is your name?\")\n",
    "])\n",
    "\n",
    "prompt = template.format_messages(\n",
    "language=\"japanese\",\n",
    "name=\"Socrates\",\n",
    "country_a=\"France\",\n",
    "country_b=\"Korea\",\n",
    ")\n",
    "\n",
    "response = chat.invoke(prompt)\n",
    "print(response.content)"
   ]
  }
 ],
 "metadata": {
  "kernelspec": {
   "display_name": "venv",
   "language": "python",
   "name": "python3"
  },
  "language_info": {
   "codemirror_mode": {
    "name": "ipython",
    "version": 3
   },
   "file_extension": ".py",
   "mimetype": "text/x-python",
   "name": "python",
   "nbconvert_exporter": "python",
   "pygments_lexer": "ipython3",
   "version": "3.13.3"
  }
 },
 "nbformat": 4,
 "nbformat_minor": 5
}
