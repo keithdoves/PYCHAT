{
 "cells": [
  {
   "cell_type": "code",
   "execution_count": null,
   "id": "b3432120",
   "metadata": {},
   "outputs": [
    {
     "data": {
      "text/plain": [
       "['pikachu', '이브이', '파이리', '꼬부기', '뚜벅쵸']"
      ]
     },
     "execution_count": 1,
     "metadata": {},
     "output_type": "execute_result"
    }
   ],
   "source": [
    "from langchain_openai import ChatOpenAI\n",
    "from langchain.prompts import  ChatPromptTemplate\n",
    "from langchain.schema import BaseOutputParser\n",
    "\n",
    "class CommaOutputParser(BaseOutputParser):\n",
    "\n",
    "\tdef parse(self, text):\n",
    "\t\titems = text.strip().split(\",\") #앞 뒤 공백 잘라줌, 쉼표기준으로 잘라 array로 저장\n",
    "\t\treturn list(map(str.strip,items))\n",
    "\t\n",
    "template = ChatPromptTemplate.from_messages([\n",
    "\t\t(\"system\", \"You are a list generating machine. Everyting you are will be answerd with a comma seperated list of max {max_items} in lowercase and korean. Do NOT replay with anything else.\"),\n",
    "\t\t(\"human\", \"{question}\")\n",
    "\t]\n",
    ")\n",
    "\n",
    "\n",
    "chat = ChatOpenAI(model_name=\"gpt-4o-mini\", temperature=0.1)\n",
    "\n",
    "chain = template | chat | CommaOutputParser()\n",
    "#  모든 요소를 합쳐주는 역할. 합쳐진 요소들은 하나씩 실행됨.\n",
    "chain.invoke({\n",
    "\"max_items\" : 5,\n",
    "\"question\" : \"What are the pokemons?\"\n",
    "})\n",
    "#$  - LangChain 내부에서 `{python}format_messages()`, `{python}parse()`를 실행함.\n",
    "#- `LangChain` 은 `Prompt`, `LLM,ChatModel`,`OutPutParser` 이외에도 `Retriever`, `Tool`이 사용 가능하다. "
   ]
  },
  {
   "cell_type": "code",
   "execution_count": null,
   "id": "13ec0aaf",
   "metadata": {},
   "outputs": [],
   "source": []
  }
 ],
 "metadata": {
  "kernelspec": {
   "display_name": "venv",
   "language": "python",
   "name": "python3"
  },
  "language_info": {
   "codemirror_mode": {
    "name": "ipython",
    "version": 3
   },
   "file_extension": ".py",
   "mimetype": "text/x-python",
   "name": "python",
   "nbconvert_exporter": "python",
   "pygments_lexer": "ipython3",
   "version": "3.13.3"
  }
 },
 "nbformat": 4,
 "nbformat_minor": 5
}
