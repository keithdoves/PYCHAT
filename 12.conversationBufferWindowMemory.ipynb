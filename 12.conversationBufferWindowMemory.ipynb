{
 "cells": [
  {
   "cell_type": "code",
   "execution_count": null,
   "id": "1b61d3bd",
   "metadata": {},
   "outputs": [
    {
     "data": {
      "text/plain": [
       "{'history': [HumanMessage(content='안녕', additional_kwargs={}, response_metadata={}),\n",
       "  AIMessage(content='안녕하세요!', additional_kwargs={}, response_metadata={})]}"
      ]
     },
     "execution_count": 3,
     "metadata": {},
     "output_type": "execute_result"
    }
   ],
   "source": [
    "from langchain.memory import ConversationBufferWindowMemory\n",
    "\n",
    "#### Conversation Buffer Window Memory(Deprecated) ####\n",
    "# - 대화의 특정 부분만을 저장하는 메모리(최근 메시지)\n",
    "# - 5개를 저장하도록 설정했다면 6번째 메세지가 왔을 때, 첫번째 메시지를 버림\n",
    "\n",
    "\n",
    "memory = ConversationBufferWindowMemory(\n",
    "    k=4,\n",
    "    return_messages=True\n",
    ")\n",
    "\n",
    "memory.save_context({\"input\": \"안녕\"}, {\"output\": \"안녕하세요!\"})\n",
    "# 이후 memory.load_memory_variables({}) 로 확인 가능\n",
    "\n",
    "memory.load_memory_variables({})"
   ]
  }
 ],
 "metadata": {
  "kernelspec": {
   "display_name": "venv",
   "language": "python",
   "name": "python3"
  },
  "language_info": {
   "codemirror_mode": {
    "name": "ipython",
    "version": 3
   },
   "file_extension": ".py",
   "mimetype": "text/x-python",
   "name": "python",
   "nbconvert_exporter": "python",
   "pygments_lexer": "ipython3",
   "version": "3.13.3"
  }
 },
 "nbformat": 4,
 "nbformat_minor": 5
}
