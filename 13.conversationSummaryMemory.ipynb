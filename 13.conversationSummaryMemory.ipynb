{
 "cells": [
  {
   "cell_type": "code",
   "execution_count": null,
   "id": "635a9647",
   "metadata": {},
   "outputs": [
    {
     "data": {
      "text/plain": [
       "{'history': 'The human introduces himself as Nicolas and mentions that he lives in South Korea. The AI responds positively, expressing excitement about this information. The human comments that South Korea is very pretty, and the AI expresses a desire to visit there.'}"
      ]
     },
     "execution_count": 2,
     "metadata": {},
     "output_type": "execute_result"
    }
   ],
   "source": [
    "from langchain.memory import ConversationSummaryMemory\n",
    "from langchain_openai import ChatOpenAI\n",
    "\n",
    "#  Summary와 Buffer의 결합이다.\n",
    "#  우리가 정의한 `limit`에 도달할 때, 넘어간 메시지를 삭제하는 대신, 요약(`summarize`)한다.\n",
    "\n",
    "llm  = ChatOpenAI(model_name=\"gpt-4o-mini\",\n",
    "                temperature=0.1,\n",
    "                streaming=True,\n",
    "                )\n",
    "\n",
    "memory = ConversationSummaryMemory(llm=llm)\n",
    "\n",
    "def add_message(input, output):\n",
    "    memory.save_context({\"input\" : input },{\"output\": output})\n",
    "\n",
    "def get_history():\n",
    "    return memory.load_memory_variables({})\n",
    "\n",
    "add_message(\"안녕, 나는 니콜라스고, 한국에 살아.\", \"우와, 반가워요!\")\n",
    "add_message(\"한국은 정말 아름다워요\", \"저도 가고 싶어요\")\n",
    "\n",
    "get_history()"
   ]
  }
 ],
 "metadata": {
  "kernelspec": {
   "display_name": "venv",
   "language": "python",
   "name": "python3"
  },
  "language_info": {
   "codemirror_mode": {
    "name": "ipython",
    "version": 3
   },
   "file_extension": ".py",
   "mimetype": "text/x-python",
   "name": "python",
   "nbconvert_exporter": "python",
   "pygments_lexer": "ipython3",
   "version": "3.13.3"
  }
 },
 "nbformat": 4,
 "nbformat_minor": 5
}
