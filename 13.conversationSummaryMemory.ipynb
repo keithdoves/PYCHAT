{
 "cells": [
  {
   "cell_type": "code",
   "execution_count": null,
   "id": "635a9647",
   "metadata": {},
   "outputs": [
    {
     "name": "stderr",
     "output_type": "stream",
     "text": [
      "C:\\Users\\junglim\\AppData\\Local\\Temp\\ipykernel_425172\\4135543222.py:12: LangChainDeprecationWarning: Please see the migration guide at: https://python.langchain.com/docs/versions/migrating_memory/\n",
      "  memory = ConversationSummaryMemory(llm=llm)\n"
     ]
    },
    {
     "data": {
      "text/plain": [
       "{'history': 'The human introduces himself as Nicolas and mentions that he lives in Korea. The AI responds enthusiastically, expressing pleasure at the introduction. The human comments that Korea is very beautiful, and the AI expresses a desire to visit.'}"
      ]
     },
     "execution_count": 1,
     "metadata": {},
     "output_type": "execute_result"
    }
   ],
   "source": [
    "from langchain.memory import ConversationSummaryMemory\n",
    "from langchain_openai import ChatOpenAI\n",
    "\n",
    "#  Summary와 Buffer의 결합이다.\n",
    "#  우리가 정의한 `limit`에 도달할 때, 넘어간 메시지를 삭제하는 대신, 요약(`summarize`)한다.\n",
    "\n",
    "llm  = ChatOpenAI(model_name=\"gpt-4o-mini\",\n",
    "                temperature=0.1,\n",
    "                streaming=True,\n",
    "                )\n",
    "\n",
    "memory = ConversationSummaryMemory(llm=llm, max_token_limit=100)\n",
    "\n",
    "def add_message(input, output):\n",
    "    memory.save_context({\"input\" : input },{\"output\": output})\n",
    "\n",
    "def get_history():\n",
    "    return memory.load_memory_variables({})\n",
    "\n",
    "add_message(\"안녕, 나는 니콜라스고, 한국에 살아.\", \"우와, 반가워요!\")\n",
    "add_message(\"한국은 정말 아름다워요\", \"저도 가고 싶어요\")\n",
    "\n",
    "get_history()"
   ]
  }
 ],
 "metadata": {
  "kernelspec": {
   "display_name": "venv",
   "language": "python",
   "name": "python3"
  },
  "language_info": {
   "codemirror_mode": {
    "name": "ipython",
    "version": 3
   },
   "file_extension": ".py",
   "mimetype": "text/x-python",
   "name": "python",
   "nbconvert_exporter": "python",
   "pygments_lexer": "ipython3",
   "version": "3.13.3"
  }
 },
 "nbformat": 4,
 "nbformat_minor": 5
}
