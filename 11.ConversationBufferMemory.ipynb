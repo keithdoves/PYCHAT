{
 "cells": [
  {
   "cell_type": "code",
   "execution_count": 2,
   "id": "d65ed533",
   "metadata": {},
   "outputs": [
    {
     "name": "stdout",
     "output_type": "stream",
     "text": [
      "You mentioned that you are from South Korea. How can I assist you today?human: Hi I'm from S.Korea!\n",
      "ai: It's Cool!\n",
      "human: What did I say before?\n",
      "ai: You mentioned that you are from South Korea. How can I assist you today?\n"
     ]
    }
   ],
   "source": [
    "from langchain_openai import ChatOpenAI\n",
    "from langchain.callbacks import StreamingStdOutCallbackHandler\n",
    "from langchain_community.chat_message_histories import ChatMessageHistory\n",
    "from langchain.memory import ConversationBufferMemory\n",
    "from langchain.prompts import ChatPromptTemplate\n",
    "\n",
    "# # Memory\n",
    "# - 챗봇에 메모리를 추가하지 않으면 맥락을 기억할 수 없다.\n",
    "# - 이전 대화 기록을 메모리에 저장하여 지속적인 대화가 가능하다.\n",
    "\n",
    "# ### Conversation Buffer Memory\n",
    "# - 단순히 이전 대화 내용 전체를 저장하는 메모리\n",
    "# - 대화 내용이 길어질수록 메모리도 함께 커져 비효율적임\n",
    "# - 모델에는 메모리가 없어 전체 대화 내용을 함께 보내야 모델이 이해할 수 있음.\n",
    "# - 모든 메모리는 `save_context`, `load_memory_variables` 메소드를 갖고 있음\n",
    "\n",
    "chat  = ChatOpenAI(model_name=\"gpt-4o-mini\",\n",
    "                temperature=0.1,\n",
    "                streaming=True,\n",
    "                callbacks=[StreamingStdOutCallbackHandler(),\n",
    "                    ],\n",
    "                )\n",
    "\n",
    "# 1. 메시지 히스토리 인스턴스 생성\n",
    "chat_history = ChatMessageHistory()\n",
    "\n",
    "# 2. ConversationBufferMemory 구성 (chat_memory를 명시적으로 주입)\n",
    "memory = ConversationBufferMemory(\n",
    "    chat_memory=chat_history,\n",
    "    return_messages=True  # True로 하면 AIMessage, HumanMessage 객체로 반환\n",
    ")\n",
    "\n",
    "prompt = ChatPromptTemplate.from_messages([\n",
    "    (\"system\", \"You are a helpful AI assistant.\"),\n",
    "    (\"human\", \"{input}\"),\n",
    "])\n",
    "\n",
    "# 3. 컨텍스트 저장\n",
    "memory.save_context({\"input\": \"Hi I'm from S.Korea!\"}, {\"output\": \"It's Cool!\"})\n",
    "\n",
    "# 4. 컨텍스트 불러오기\n",
    "memory_variables = memory.load_memory_variables({})\n",
    "history = memory_variables[\"history\"] # history라는 키 안에 대화 내용이 들어있음\n",
    "\n",
    "user_input = \"What did I say before?\"\n",
    "\n",
    "# 5. 과거 대화 + 새 질문을 합쳐 전체 메시지 시퀀스를 구성\n",
    "messages = history + prompt.format_messages(input=user_input)\n",
    "# 모델 호출 & 응답 출력\n",
    "response = chat.invoke(messages)\n",
    "\n",
    "# 6. 질문(input)과 응답(output)을 메모리에 저장\n",
    "memory.save_context({\"input\": user_input}, {\"output\": response.content})\n",
    "\n",
    "# 7. 메모리에서 대화 기록 불러오기(Dev_확인용)\n",
    "last_history = memory.load_memory_variables({})[\"history\"]\n",
    "for message in last_history:\n",
    "    print(f\"{message.type}: {message.content}\")\n"
   ]
  }
 ],
 "metadata": {
  "kernelspec": {
   "display_name": "venv",
   "language": "python",
   "name": "python3"
  },
  "language_info": {
   "codemirror_mode": {
    "name": "ipython",
    "version": 3
   },
   "file_extension": ".py",
   "mimetype": "text/x-python",
   "name": "python",
   "nbconvert_exporter": "python",
   "pygments_lexer": "ipython3",
   "version": "3.13.3"
  }
 },
 "nbformat": 4,
 "nbformat_minor": 5
}
