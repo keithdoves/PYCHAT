{
 "cells": [
  {
   "cell_type": "code",
   "execution_count": null,
   "id": "fa42a1b6",
   "metadata": {},
   "outputs": [],
   "source": [
    "from langchain.memory import ConversationSummaryBufferMemory\n",
    "from langchain_openai import ChatOpenAI\n",
    "from langchain.schema.runnable import RunnablePassthrough\n",
    "from langchain.prompts import  ChatPromptTemplate, MessagesPlaceholder\n",
    "\n",
    "\n",
    "llm  = ChatOpenAI(model_name=\"gpt-4o-mini\",\n",
    "                temperature=0.1,\n",
    "                streaming=True,\n",
    "                )\n",
    "\n",
    "memory = ConversationSummaryBufferMemory(\n",
    "    llm=llm,\n",
    "    max_token_limit=120,\n",
    "    #memory_key=\"chat_history\", #기본 키는 history다 \n",
    "    return_messages=True,\n",
    ")\n",
    "\n",
    "prompt = ChatPromptTemplate.from_messages(\n",
    "    [\n",
    "        (\"system\", \"You are a helpful AI taking to a human.\"),\n",
    "        MessagesPlaceholder(variable_name=\"history\"), #message형식일 때 히스토리 제공방법\n",
    "        (\"human\", \"{question}\"),\n",
    "    ]\n",
    ")\n",
    "def load_memory(_):\n",
    "    return memory.load_memory_variables({})[\"history\"]\n",
    "#RunnablePassthrough : 프롬프트가 완성되기 전에 함수를 실행시켜줌\n",
    "#그리고 assign 메소드를 통해 어느 값이든 할당할 수 있음\n",
    "chain = RunnablePassthrough.assign(history=load_memory) | prompt | llm\n",
    "\n",
    "def invoke_chain(question):\n",
    "    result = chain.invoke({\n",
    "        \"question\": question,\n",
    "    })\n",
    "    memory.save_context({\"input\": question},{\"output\": result.content}) \n",
    "    print(result)\n",
    "\n",
    "\n"
   ]
  },
  {
   "cell_type": "code",
   "execution_count": 14,
   "id": "40f55bcd",
   "metadata": {},
   "outputs": [
    {
     "name": "stdout",
     "output_type": "stream",
     "text": [
      "content='Nice to meet you, Jonas! How can I assist you today?' additional_kwargs={} response_metadata={'finish_reason': 'stop', 'model_name': 'gpt-4o-mini-2024-07-18', 'system_fingerprint': 'fp_dbaca60df0'} id='run-5556a100-a4d5-494e-9efa-00aaa16821af-0'\n"
     ]
    }
   ],
   "source": [
    "invoke_chain(\"My name is jonas\")\n"
   ]
  },
  {
   "cell_type": "code",
   "execution_count": 15,
   "id": "816b06b7",
   "metadata": {},
   "outputs": [
    {
     "name": "stdout",
     "output_type": "stream",
     "text": [
      "content=\"That's great! Seoul is a vibrant city with a rich history and a lot to offer. Do you have any favorite places or activities in Seoul?\" additional_kwargs={} response_metadata={'finish_reason': 'stop', 'model_name': 'gpt-4o-mini-2024-07-18', 'system_fingerprint': 'fp_dbaca60df0'} id='run-2f0e540b-f3b6-472a-8117-a8272c4e2bf9-0'\n"
     ]
    }
   ],
   "source": [
    "invoke_chain(\"I live in Seoul\")\n"
   ]
  }
 ],
 "metadata": {
  "kernelspec": {
   "display_name": "venv",
   "language": "python",
   "name": "python3"
  },
  "language_info": {
   "codemirror_mode": {
    "name": "ipython",
    "version": 3
   },
   "file_extension": ".py",
   "mimetype": "text/x-python",
   "name": "python",
   "nbconvert_exporter": "python",
   "pygments_lexer": "ipython3",
   "version": "3.13.3"
  }
 },
 "nbformat": 4,
 "nbformat_minor": 5
}
